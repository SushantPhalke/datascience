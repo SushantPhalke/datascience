{
 "cells": [
  {
   "cell_type": "code",
   "execution_count": 1,
   "id": "architectural-purse",
   "metadata": {},
   "outputs": [],
   "source": [
    "import numpy as np\n",
    "import pandas as pd"
   ]
  },
  {
   "cell_type": "code",
   "execution_count": 2,
   "id": "floating-barcelona",
   "metadata": {},
   "outputs": [],
   "source": [
    "vaccinationfile = pd.read_csv('vaccination-data.csv')"
   ]
  },
  {
   "cell_type": "code",
   "execution_count": 3,
   "id": "framed-guest",
   "metadata": {},
   "outputs": [
    {
     "name": "stdout",
     "output_type": "stream",
     "text": [
      "4619976274.0\n"
     ]
    }
   ],
   "source": [
    "totalvaccinationsum= 0\n",
    "for l in range(0,227):\n",
    "    totalvaccinationsum+=vaccinationfile['TOTAL_VACCINATIONS'][l]\n",
    "print(totalvaccinationsum)"
   ]
  },
  {
   "cell_type": "code",
   "execution_count": 5,
   "id": "arranged-range",
   "metadata": {},
   "outputs": [
    {
     "name": "stdout",
     "output_type": "stream",
     "text": [
      "45242604.0\n"
     ]
    }
   ],
   "source": [
    "sumofafro= 0\n",
    "for m in range(0,227):\n",
    "    if (vaccinationfile['WHO_REGION'][m] == 'AFRO'):\n",
    "        sumofafro+=vaccinationfile['TOTAL_VACCINATIONS'][m]\n",
    "        \n",
    "print(sumofafro)"
   ]
  },
  {
   "cell_type": "code",
   "execution_count": 6,
   "id": "available-surname",
   "metadata": {},
   "outputs": [
    {
     "name": "stdout",
     "output_type": "stream",
     "text": [
      "857870959.0\n"
     ]
    }
   ],
   "source": [
    "sumofamro= 0\n",
    "for n in range(0,227):\n",
    "    if (vaccinationfile['WHO_REGION'][n] == 'AMRO'):\n",
    "        sumofamro+=vaccinationfile['TOTAL_VACCINATIONS'][n]\n",
    "        \n",
    "print(sumofamro)"
   ]
  },
  {
   "cell_type": "code",
   "execution_count": 9,
   "id": "opened-manor",
   "metadata": {},
   "outputs": [
    {
     "name": "stdout",
     "output_type": "stream",
     "text": [
      "189554689.0\n",
      "841627665.0\n",
      "41741.0\n",
      "720946143.0\n",
      "1964692473.0\n"
     ]
    }
   ],
   "source": [
    "sumofemro= 0\n",
    "sumofeuro=0\n",
    "sumofother=0\n",
    "sumofsearo=0\n",
    "sumofwpro=0\n",
    "for o in range(0,227):\n",
    "    if (vaccinationfile['WHO_REGION'][o] == 'EMRO'):\n",
    "        sumofemro+=vaccinationfile['TOTAL_VACCINATIONS'][o]\n",
    "    if (vaccinationfile['WHO_REGION'][o] == 'EURO'):\n",
    "        sumofeuro+=vaccinationfile['TOTAL_VACCINATIONS'][o]\n",
    "    if (vaccinationfile['WHO_REGION'][o] == 'OTHER'):\n",
    "        sumofother+=vaccinationfile['TOTAL_VACCINATIONS'][o]\n",
    "    if (vaccinationfile['WHO_REGION'][o] == 'SEARO'):\n",
    "        sumofsearo+=vaccinationfile['TOTAL_VACCINATIONS'][o]\n",
    "    if (vaccinationfile['WHO_REGION'][o] == 'WPRO'):\n",
    "        sumofwpro+=vaccinationfile['TOTAL_VACCINATIONS'][o]\n",
    "        \n",
    "print(sumofemro)\n",
    "print(sumofeuro)\n",
    "print(sumofother)\n",
    "print(sumofsearo)\n",
    "print(sumofwpro)"
   ]
  },
  {
   "cell_type": "code",
   "execution_count": 10,
   "id": "vital-thanks",
   "metadata": {},
   "outputs": [
    {
     "data": {
      "text/plain": [
       "4619976274.0"
      ]
     },
     "execution_count": 10,
     "metadata": {},
     "output_type": "execute_result"
    }
   ],
   "source": [
    "sumofafro+sumofamro+sumofemro+sumofeuro+sumofother+sumofsearo+sumofwpro"
   ]
  },
  {
   "cell_type": "code",
   "execution_count": 11,
   "id": "interesting-prison",
   "metadata": {},
   "outputs": [],
   "source": [
    "def calculaltePercentage(value1,totalvaccinationsum):\n",
    "    percentage =((value1 / totalvaccinationsum)*100)\n",
    "    return percentage"
   ]
  },
  {
   "cell_type": "code",
   "execution_count": 13,
   "id": "initial-harvard",
   "metadata": {},
   "outputs": [],
   "source": [
    "afropercentage = calculaltePercentage(sumofafro,totalvaccinationsum)\n",
    "amropercentage = calculaltePercentage(sumofamro,totalvaccinationsum)\n",
    "emropercentage = calculaltePercentage(sumofemro,totalvaccinationsum)\n",
    "europercentage = calculaltePercentage(sumofeuro,totalvaccinationsum)\n",
    "otherpercentage= calculaltePercentage(sumofother,totalvaccinationsum)\n",
    "searopercentage= calculaltePercentage(sumofsearo,totalvaccinationsum)\n",
    "wpropercentage = calculaltePercentage(sumofwpro,totalvaccinationsum)"
   ]
  },
  {
   "cell_type": "code",
   "execution_count": null,
   "id": "municipal-province",
   "metadata": {},
   "outputs": [],
   "source": []
  }
 ],
 "metadata": {
  "kernelspec": {
   "display_name": "Python 3",
   "language": "python",
   "name": "python3"
  },
  "language_info": {
   "codemirror_mode": {
    "name": "ipython",
    "version": 3
   },
   "file_extension": ".py",
   "mimetype": "text/x-python",
   "name": "python",
   "nbconvert_exporter": "python",
   "pygments_lexer": "ipython3",
   "version": "3.9.7"
  }
 },
 "nbformat": 4,
 "nbformat_minor": 5
}
