{
 "cells": [
  {
   "cell_type": "code",
   "execution_count": 1,
   "id": "pressed-hierarchy",
   "metadata": {},
   "outputs": [],
   "source": [
    "import numpy as np\n",
    "import pandas as pd\n"
   ]
  },
  {
   "cell_type": "code",
   "execution_count": 3,
   "id": "choice-comparative",
   "metadata": {},
   "outputs": [],
   "source": [
    "vaccinationfile = pd.read_csv('vaccination-data.csv')"
   ]
  },
  {
   "cell_type": "code",
   "execution_count": 9,
   "id": "specific-compatibility",
   "metadata": {},
   "outputs": [
    {
     "data": {
      "text/plain": [
       "RangeIndex(start=0, stop=227, step=1)"
      ]
     },
     "execution_count": 9,
     "metadata": {},
     "output_type": "execute_result"
    }
   ],
   "source": [
    "vaccinationfile.index\n"
   ]
  },
  {
   "cell_type": "code",
   "execution_count": 10,
   "id": "civilian-newton",
   "metadata": {},
   "outputs": [],
   "source": [
    "totalvaccinationsum = 0\n",
    "for i in range (0,227):\n",
    "    totalvaccinationsum =totalvaccinationsum+ vaccinationfile['TOTAL_VACCINATIONS'][i]\n",
    "    "
   ]
  },
  {
   "cell_type": "code",
   "execution_count": 11,
   "id": "eleven-assignment",
   "metadata": {},
   "outputs": [
    {
     "name": "stdout",
     "output_type": "stream",
     "text": [
      "nan\n"
     ]
    }
   ],
   "source": [
    "print(totalvaccinationsum)"
   ]
  },
  {
   "cell_type": "code",
   "execution_count": 12,
   "id": "accompanied-judge",
   "metadata": {},
   "outputs": [
    {
     "data": {
      "text/plain": [
       "1201286.0"
      ]
     },
     "execution_count": 12,
     "metadata": {},
     "output_type": "execute_result"
    }
   ],
   "source": [
    "vaccinationfile['TOTAL_VACCINATIONS'][0]\n"
   ]
  },
  {
   "cell_type": "code",
   "execution_count": 13,
   "id": "stuck-statement",
   "metadata": {},
   "outputs": [
    {
     "data": {
      "text/plain": [
       "nan"
      ]
     },
     "execution_count": 13,
     "metadata": {},
     "output_type": "execute_result"
    }
   ],
   "source": [
    "totalvaccinationsum\n"
   ]
  },
  {
   "cell_type": "code",
   "execution_count": 14,
   "id": "convinced-syndication",
   "metadata": {},
   "outputs": [
    {
     "data": {
      "text/plain": [
       "2541625.0"
      ]
     },
     "execution_count": 14,
     "metadata": {},
     "output_type": "execute_result"
    }
   ],
   "source": [
    "vaccinationfile['TOTAL_VACCINATIONS'][0]+vaccinationfile['TOTAL_VACCINATIONS'][1]"
   ]
  },
  {
   "cell_type": "code",
   "execution_count": 15,
   "id": "improving-african",
   "metadata": {},
   "outputs": [],
   "source": [
    "totalvaccinationsum = 0\n"
   ]
  },
  {
   "cell_type": "code",
   "execution_count": 16,
   "id": "spanish-community",
   "metadata": {},
   "outputs": [
    {
     "data": {
      "text/plain": [
       "0"
      ]
     },
     "execution_count": 16,
     "metadata": {},
     "output_type": "execute_result"
    }
   ],
   "source": [
    "totalvaccinationsum\n"
   ]
  },
  {
   "cell_type": "code",
   "execution_count": 17,
   "id": "removed-delta",
   "metadata": {},
   "outputs": [
    {
     "name": "stdout",
     "output_type": "stream",
     "text": [
      "nan\n"
     ]
    }
   ],
   "source": [
    "for i in range(0,227):\n",
    "    totalvaccinationsum+=vaccinationfile['TOTAL_VACCINATIONS'][i]\n",
    "    \n",
    "print(totalvaccinationsum)"
   ]
  },
  {
   "cell_type": "code",
   "execution_count": 18,
   "id": "sized-karen",
   "metadata": {},
   "outputs": [],
   "source": [
    "totalvaccinationsum=0\n",
    "for l in range(0,5):\n",
    "    totalvaccinationsum+=vaccinationfile['TOTAL_VACCINATIONS'][i]"
   ]
  },
  {
   "cell_type": "code",
   "execution_count": 19,
   "id": "chinese-insulation",
   "metadata": {},
   "outputs": [
    {
     "data": {
      "text/plain": [
       "18862895.0"
      ]
     },
     "execution_count": 19,
     "metadata": {},
     "output_type": "execute_result"
    }
   ],
   "source": [
    "totalvaccinationsum\n"
   ]
  },
  {
   "cell_type": "code",
   "execution_count": 20,
   "id": "entitled-investigation",
   "metadata": {},
   "outputs": [
    {
     "data": {
      "text/plain": [
       "477205.0"
      ]
     },
     "execution_count": 20,
     "metadata": {},
     "output_type": "execute_result"
    }
   ],
   "source": [
    "vaccinationfile['TOTAL_VACCINATIONS'][92]"
   ]
  },
  {
   "cell_type": "code",
   "execution_count": 21,
   "id": "actual-earthquake",
   "metadata": {},
   "outputs": [
    {
     "data": {
      "text/plain": [
       "nan"
      ]
     },
     "execution_count": 21,
     "metadata": {},
     "output_type": "execute_result"
    }
   ],
   "source": [
    "vaccinationfile['TOTAL_VACCINATIONS'][91]\n"
   ]
  },
  {
   "cell_type": "code",
   "execution_count": 22,
   "id": "bigger-kitty",
   "metadata": {},
   "outputs": [
    {
     "name": "stderr",
     "output_type": "stream",
     "text": [
      "<ipython-input-22-73fdcca04260>:1: SettingWithCopyWarning: \n",
      "A value is trying to be set on a copy of a slice from a DataFrame\n",
      "\n",
      "See the caveats in the documentation: https://pandas.pydata.org/pandas-docs/stable/user_guide/indexing.html#returning-a-view-versus-a-copy\n",
      "  vaccinationfile['TOTAL_VACCINATIONS'][91]=0\n"
     ]
    }
   ],
   "source": [
    "vaccinationfile['TOTAL_VACCINATIONS'][91]=0\n"
   ]
  },
  {
   "cell_type": "code",
   "execution_count": 23,
   "id": "minimal-brass",
   "metadata": {},
   "outputs": [
    {
     "data": {
      "text/plain": [
       "0.0"
      ]
     },
     "execution_count": 23,
     "metadata": {},
     "output_type": "execute_result"
    }
   ],
   "source": [
    "vaccinationfile['TOTAL_VACCINATIONS'][91]"
   ]
  },
  {
   "cell_type": "code",
   "execution_count": 24,
   "id": "selected-banner",
   "metadata": {},
   "outputs": [],
   "source": [
    "totalvaccinationsum=0\n",
    "for l in range(0,5):\n",
    "    totalvaccinationsum+=vaccinationfile['TOTAL_VACCINATIONS'][i]"
   ]
  },
  {
   "cell_type": "code",
   "execution_count": 25,
   "id": "minute-fusion",
   "metadata": {},
   "outputs": [
    {
     "data": {
      "text/plain": [
       "18862895.0"
      ]
     },
     "execution_count": 25,
     "metadata": {},
     "output_type": "execute_result"
    }
   ],
   "source": [
    "totalvaccinationsum\n"
   ]
  },
  {
   "cell_type": "code",
   "execution_count": 26,
   "id": "japanese-motor",
   "metadata": {},
   "outputs": [],
   "source": [
    "totalvaccinationsum=0\n",
    "for l in range(0,227):\n",
    "    totalvaccinationsum+=vaccinationfile['TOTAL_VACCINATIONS'][i]"
   ]
  },
  {
   "cell_type": "code",
   "execution_count": 27,
   "id": "perceived-words",
   "metadata": {},
   "outputs": [
    {
     "data": {
      "text/plain": [
       "856375433.0"
      ]
     },
     "execution_count": 27,
     "metadata": {},
     "output_type": "execute_result"
    }
   ],
   "source": [
    "totalvaccinationsum\n"
   ]
  },
  {
   "cell_type": "code",
   "execution_count": 28,
   "id": "transparent-gambling",
   "metadata": {},
   "outputs": [],
   "source": [
    "totalvaccinationsum=0\n",
    "for l in range(0,225):\n",
    "    totalvaccinationsum+=vaccinationfile['TOTAL_VACCINATIONS'][i]"
   ]
  },
  {
   "cell_type": "code",
   "execution_count": 29,
   "id": "dutch-establishment",
   "metadata": {},
   "outputs": [
    {
     "data": {
      "text/plain": [
       "848830275.0"
      ]
     },
     "execution_count": 29,
     "metadata": {},
     "output_type": "execute_result"
    }
   ],
   "source": [
    "totalvaccinationsum\n"
   ]
  },
  {
   "cell_type": "code",
   "execution_count": 32,
   "id": "animated-resort",
   "metadata": {},
   "outputs": [
    {
     "data": {
      "text/plain": [
       "1340339.0"
      ]
     },
     "execution_count": 32,
     "metadata": {},
     "output_type": "execute_result"
    }
   ],
   "source": [
    "vaccinationfile['TOTAL_VACCINATIONS'][1]"
   ]
  },
  {
   "cell_type": "code",
   "execution_count": 35,
   "id": "blind-venice",
   "metadata": {},
   "outputs": [],
   "source": [
    "totalvaccinationsums= 0\n",
    "for l in range(0,227):\n",
    "    totalvaccinationsums+=vaccinationfile['TOTAL_VACCINATIONS'][l]"
   ]
  },
  {
   "cell_type": "code",
   "execution_count": 36,
   "id": "roman-charm",
   "metadata": {},
   "outputs": [
    {
     "data": {
      "text/plain": [
       "4619976274.0"
      ]
     },
     "execution_count": 36,
     "metadata": {},
     "output_type": "execute_result"
    }
   ],
   "source": [
    "totalvaccinationsums\n"
   ]
  },
  {
   "cell_type": "code",
   "execution_count": null,
   "id": "ordered-killing",
   "metadata": {},
   "outputs": [],
   "source": []
  }
 ],
 "metadata": {
  "kernelspec": {
   "display_name": "Python 3",
   "language": "python",
   "name": "python3"
  },
  "language_info": {
   "codemirror_mode": {
    "name": "ipython",
    "version": 3
   },
   "file_extension": ".py",
   "mimetype": "text/x-python",
   "name": "python",
   "nbconvert_exporter": "python",
   "pygments_lexer": "ipython3",
   "version": "3.9.7"
  }
 },
 "nbformat": 4,
 "nbformat_minor": 5
}
